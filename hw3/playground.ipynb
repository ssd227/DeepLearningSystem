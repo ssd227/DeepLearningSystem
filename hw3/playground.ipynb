{
 "cells": [
  {
   "cell_type": "code",
   "execution_count": 12,
   "metadata": {},
   "outputs": [
    {
     "data": {
      "text/plain": [
       "array([[0.        , 0.        , 0.        , 0.        , 0.57850446],\n",
       "       [0.        , 0.        , 0.        , 0.        , 0.81882964],\n",
       "       [0.        , 0.        , 0.41079314, 0.        , 0.96469667],\n",
       "       [0.        , 0.        , 0.90267451, 0.        , 0.        ],\n",
       "       [1.28565227, 1.02665642, 0.62567411, 0.41934802, 0.        ]])"
      ]
     },
     "execution_count": 12,
     "metadata": {},
     "output_type": "execute_result"
    }
   ],
   "source": [
    "import numpy as np\n",
    "\n",
    "A = np.random.randn(5, 5)\n",
    "A = np.maximum(A, 0) # remove waning\n",
    "np.power(A, 0.5)"
   ]
  }
 ],
 "metadata": {
  "kernelspec": {
   "display_name": "base",
   "language": "python",
   "name": "python3"
  },
  "language_info": {
   "codemirror_mode": {
    "name": "ipython",
    "version": 3
   },
   "file_extension": ".py",
   "mimetype": "text/x-python",
   "name": "python",
   "nbconvert_exporter": "python",
   "pygments_lexer": "ipython3",
   "version": "3.10.9"
  },
  "orig_nbformat": 4
 },
 "nbformat": 4,
 "nbformat_minor": 2
}
